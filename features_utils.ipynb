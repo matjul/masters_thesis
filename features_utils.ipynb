{
 "cells": [
  {
   "cell_type": "markdown",
   "id": "223afc7a",
   "metadata": {},
   "source": [
    "***(Code from: https://github.com/fraunhoferportugal/tsfel)***"
   ]
  },
  {
   "cell_type": "markdown",
   "id": "2fcfae4a",
   "metadata": {},
   "source": [
    "### Utility functions for entropy funtion (Shannon Entropy)"
   ]
  },
  {
   "cell_type": "code",
   "execution_count": 1,
   "id": "e0120b00",
   "metadata": {},
   "outputs": [],
   "source": [
    "from scipy.stats import median_abs_deviation"
   ]
  },
  {
   "cell_type": "code",
   "execution_count": 2,
   "id": "e457a8df",
   "metadata": {},
   "outputs": [],
   "source": [
    "def kde(features):\n",
    "    \"\"\"Computes the probability density function of the input signal using a Gaussian KDE (Kernel Density Estimate)\n",
    "    Parameters\n",
    "    ----------\n",
    "    features : nd-array\n",
    "        Input from which probability density function is computed\n",
    "    Returns\n",
    "    -------\n",
    "    nd-array\n",
    "        probability density values\n",
    "    \"\"\"\n",
    "    features_ = np.copy(features)\n",
    "    xx = create_xx(features_)\n",
    "\n",
    "    if min(features_) == max(features_):\n",
    "        noise = np.random.randn(len(features_)) * 0.0001\n",
    "        features_ = np.copy(features_ + noise)\n",
    "\n",
    "    kernel = scipy.stats.gaussian_kde(features_, bw_method='silverman')\n",
    "\n",
    "    return np.array(kernel(xx) / np.sum(kernel(xx)))"
   ]
  },
  {
   "cell_type": "code",
   "execution_count": 3,
   "id": "5edbbb6c",
   "metadata": {},
   "outputs": [],
   "source": [
    "def gaussian(features):\n",
    "    \"\"\"Computes the probability density function of the input signal using a Gaussian function\n",
    "    Parameters\n",
    "    ----------\n",
    "    features : nd-array\n",
    "        Input from which probability density function is computed\n",
    "    Returns\n",
    "    -------\n",
    "    nd-array\n",
    "        probability density values\n",
    "    \"\"\"\n",
    "\n",
    "    features_ = np.copy(features)\n",
    "\n",
    "    xx = create_xx(features_)\n",
    "    std_value = np.std(features_)\n",
    "    mean_value = np.mean(features_)\n",
    "\n",
    "    if std_value == 0:\n",
    "        return 0.0\n",
    "    pdf_gauss = scipy.stats.norm.pdf(xx, mean_value, std_value)\n",
    "\n",
    "    return np.array(pdf_gauss / np.sum(pdf_gauss))\n"
   ]
  },
  {
   "cell_type": "markdown",
   "id": "fc90c3e2",
   "metadata": {},
   "source": [
    "### Shannon Entropy Functions"
   ]
  },
  {
   "cell_type": "code",
   "execution_count": 4,
   "id": "17d9866e",
   "metadata": {},
   "outputs": [],
   "source": [
    "def entropy(signal, prob='standard'):\n",
    "    \"\"\"Computes the entropy of the signal using the Shannon Entropy.\n",
    "    Description in Article:\n",
    "    Regularities Unseen, Randomness Observed: Levels of Entropy Convergence\n",
    "    Authors: Crutchfield J. Feldman David\n",
    "    Feature computational cost: 1\n",
    "    Parameters\n",
    "    ----------\n",
    "    signal : nd-array\n",
    "        Input from which entropy is computed\n",
    "    prob : string\n",
    "        Probability function (kde or gaussian functions are available)\n",
    "    Returns\n",
    "    -------\n",
    "    float\n",
    "        The normalized entropy value\n",
    "    \"\"\"\n",
    "\n",
    "    if prob == 'standard':\n",
    "        value, counts = np.unique(signal, return_counts=True)\n",
    "        p = counts / counts.sum()\n",
    "    elif prob == 'kde':\n",
    "        p = kde(signal)\n",
    "    elif prob == 'gauss':\n",
    "        p = gaussian(signal)\n",
    "\n",
    "    if np.sum(p) == 0:\n",
    "        return 0.0\n",
    "\n",
    "    # Handling zero probability values\n",
    "    p = p[np.where(p != 0)]\n",
    "\n",
    "    # If probability all in one value, there is no entropy\n",
    "    if np.log2(len(signal)) == 1:\n",
    "        return 0.0\n",
    "    elif np.sum(p * np.log2(p)) / np.log2(len(signal)) == 0:\n",
    "        return 0.0\n",
    "    else:\n",
    "        return - np.sum(p * np.log2(p)) / np.log2(len(signal))"
   ]
  },
  {
   "cell_type": "markdown",
   "id": "938995fd",
   "metadata": {},
   "source": [
    "### Mean absolute deviation"
   ]
  },
  {
   "cell_type": "code",
   "execution_count": 5,
   "id": "74336903",
   "metadata": {},
   "outputs": [],
   "source": [
    "def mean_abs_deviation(signal):\n",
    "    \"\"\"Computes mean absolute deviation of the signal.\n",
    "    Feature computational cost: 1\n",
    "    Parameters\n",
    "    ----------\n",
    "    signal : nd-array\n",
    "        Input from which mean absolute deviation is computed\n",
    "    Returns\n",
    "    -------\n",
    "    float\n",
    "        Mean absolute deviation result\n",
    "    \"\"\"\n",
    "    return np.mean(np.abs(signal - np.mean(signal, axis=0)), axis=0)"
   ]
  },
  {
   "cell_type": "markdown",
   "id": "f2f0fb92",
   "metadata": {},
   "source": [
    "### Median absolute deviation"
   ]
  },
  {
   "cell_type": "code",
   "execution_count": 1,
   "id": "ce944b24",
   "metadata": {},
   "outputs": [],
   "source": [
    "def median_abs_deviation(signal, scale):\n",
    "    \"\"\"Computes median absolute deviation of the signal.\n",
    "    Feature computational cost: 1\n",
    "    Parameters\n",
    "    ----------\n",
    "    signal : nd-array\n",
    "        Input from which median absolute deviation is computed\n",
    "    Returns\n",
    "    -------\n",
    "    float\n",
    "        Mean absolute deviation result\n",
    "    \"\"\"\n",
    "    return median_abs_deviation(signal, scale)"
   ]
  }
 ],
 "metadata": {
  "kernelspec": {
   "display_name": "Python 3 (ipykernel)",
   "language": "python",
   "name": "python3"
  },
  "language_info": {
   "codemirror_mode": {
    "name": "ipython",
    "version": 3
   },
   "file_extension": ".py",
   "mimetype": "text/x-python",
   "name": "python",
   "nbconvert_exporter": "python",
   "pygments_lexer": "ipython3",
   "version": "3.9.7"
  }
 },
 "nbformat": 4,
 "nbformat_minor": 5
}
